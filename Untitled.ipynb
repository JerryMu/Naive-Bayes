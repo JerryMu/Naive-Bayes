{
 "cells": [
  {
   "cell_type": "code",
   "execution_count": null,
   "metadata": {},
   "outputs": [],
   "source": [
    "def random_pred(data,label_index):\n",
    "    predictions = []\n",
    "    for i in range(data.shape[0]):\n",
    "        instance = data.iloc[i,:]\n",
    "        true_label = instance[label_index]\n",
    "        seed(i) # different seed for each instance\n",
    "        index = randint(0,len(labels)-1)\n",
    "        pred = labels[index]\n",
    "        predictions.append((i,true_label,pred))\n",
    "    return predictions"
   ]
  },
  {
   "cell_type": "code",
   "execution_count": null,
   "metadata": {},
   "outputs": [],
   "source": [
    "def discretise(data,data_type,levels,by):\n",
    "    copy_data = data.copy()\n",
    "    discrete_datatype = data_type.copy()\n",
    "    \n",
    "    for i in range(len(data_type)):\n",
    "        if data_type[i] == 2: # continuous\n",
    "            feature = data.iloc[:,i]\n",
    "            copy_feature = feature.copy()\n",
    "            # equal width\n",
    "            if by=='width':\n",
    "                # calculate width of each level\n",
    "                maximum = np.max(feature)\n",
    "                minimum = np.min(feature)\n",
    "                width = (maximum-minimum)/levels # width of each level\n",
    "                for j in range(levels):\n",
    "                    copy_feature[feature<=(maximum-width*j)] = ('level'+str(levels-j))\n",
    "            # equal quantile\n",
    "            elif by=='quantile':\n",
    "                quantile = 1/levels\n",
    "                for k in range(levels):\n",
    "                    copy_feature[feature<=np.quantile(feature,1-quantile*k)] = ('level'+str(levels-k))\n",
    "            # equal frequency\n",
    "            elif by=='freq':\n",
    "                frequency = feature.shape[0]/levels # frequency of each level\n",
    "                for m in range(levels):\n",
    "                    lower = int(frequency*m) # lower bound of index, so has to be integer\n",
    "                    upper = int(frequency*(m+1)) # upper bound of index, so has to be integer\n",
    "                    copy_feature[feature.sort_values()[lower:upper].index] = ('level'+str(levels-m))\n",
    "            copy_data.iloc[:,i] = copy_feature\n",
    "            discrete_datatype[i] = 1 \n",
    "    return copy_data,discrete_datatype"
   ]
  }
 ],
 "metadata": {
  "kernelspec": {
   "display_name": "Python 3",
   "language": "python",
   "name": "python3"
  },
  "language_info": {
   "codemirror_mode": {
    "name": "ipython",
    "version": 3
   },
   "file_extension": ".py",
   "mimetype": "text/x-python",
   "name": "python",
   "nbconvert_exporter": "python",
   "pygments_lexer": "ipython3",
   "version": "3.7.3"
  }
 },
 "nbformat": 4,
 "nbformat_minor": 2
}
