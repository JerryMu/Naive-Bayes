{
 "cells": [
  {
   "cell_type": "code",
   "execution_count": null,
   "metadata": {},
   "outputs": [],
   "source": [
    "# 两种办法: Equal Width 和 Equal Frequency\n",
    "\n",
    "# 0 represents nomianl, 1 represents ordinal, 2 represents numeric\n",
    "# feature_types=[2,0,2,1,1,0,0,0,0,0,2,2,2,0] \n",
    "def discretise(data,data_type,num_levels,by):\n",
    "    '''\n",
    "   给定一个数据集及其对应的数据类型，\n",
    "   必须将其所有数字特征离散为离散特征，\n",
    "   '宽度' & '频率'\n",
    "   代表等宽或者等频率并且取一个可靠的整数，\n",
    "   然后确定离散后的特征级别的总数\n",
    "    '''\n",
    "    copy_data = train_data.copy()\n",
    "    discrete_datatype = feature_types.copy()\n",
    "    \n",
    "    for i in range(len(feature_types)):\n",
    "    # 找出所有的 Numeric Data,然后组成新的DataFrame\n",
    "    # Note: 2 means numeric data type\n",
    "        if feature_types[i] == 2:  \n",
    "            new_dataFrame = data.iloc[:,i]\n",
    "            copy_dataFrame = new_dataFrame.copy()\n",
    "        \n",
    "    # Equal Width\n",
    "    if by=='width': \n",
    "    # calculate width of each level \n",
    "        maximum = np.max(new_dataFrame)\n",
    "        minimum = np.min(new_dataFrame)\n",
    "        width = (maximum-minimum)/num_levels # width of each level \n",
    "        for j in range(num_levels): \n",
    "            copy_dataFrame[new_dataFrame<=(maximum-width*j)] = ('num_levels'+str(num_levels-j)) \n",
    "\n",
    "    # Equal Frequency \n",
    "    else:\n",
    "        frequency = new_dataFrame.shape[0]/num_levels # frequency of each level \n",
    "        for m in range(num_levels): \n",
    "            lower = int(frequency*m) # lower bound of index, so has to be integer\n",
    "            upper = int(frequency*(m+1)) # upper bound of index, so has to be integer \n",
    "            copy_dataFrame[new_dataFrame.sort_values()[lower:upper].index] = ('num_levels' + str(num_levels-m))\n",
    "        copy_data.iloc[:,i] = copy_dataFrame \n",
    "        discrete_datatype[i] = 1\n",
    "    return copy_data, discrete_datatype \n",
    "\n",
    "width_data,discrete_datatype = discretise(train_data,feature_types,num_levels=5,by='width')\n",
    "freq_data,discrete_datatype = discretise(train_data,feature_types,num_levels=5,by='freq')"
   ]
  }
 ],
 "metadata": {
  "kernelspec": {
   "display_name": "Python 3",
   "language": "python",
   "name": "python3"
  },
  "language_info": {
   "codemirror_mode": {
    "name": "ipython",
    "version": 3
   },
   "file_extension": ".py",
   "mimetype": "text/x-python",
   "name": "python",
   "nbconvert_exporter": "python",
   "pygments_lexer": "ipython3",
   "version": "3.7.3"
  }
 },
 "nbformat": 4,
 "nbformat_minor": 2
}
