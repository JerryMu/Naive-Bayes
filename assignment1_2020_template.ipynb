{
 "cells": [
  {
   "cell_type": "markdown",
   "metadata": {},
   "source": [
    "\n",
    "### The University of Melbourne, School of Computing and Information Systems\n",
    "# COMP30027 Machine Learning, 2020 Semester 1\n",
    "\n",
    "## Assignment 1: Naive Bayes Classifiers\n",
    "\n",
    "###### Submission deadline: 7 pm, Monday 20 Apr 2020"
   ]
  },
  {
   "cell_type": "markdown",
   "metadata": {},
   "source": [
    "**Student Name(s):**    `PLEASE ENTER YOUR NAME(S) HERE`\n",
    "\n",
    "**Student ID(s):**     `PLEASE ENTER YOUR ID(S) HERE`\n"
   ]
  },
  {
   "cell_type": "markdown",
   "metadata": {},
   "source": [
    "This iPython notebook is a template which you will use for your Assignment 1 submission.\n",
    "\n",
    "Marking will be applied on the four functions that are defined in this notebook, and to your responses to the questions at the end of this notebook (Submitted in a separate PDF file).\n",
    "\n",
    "**NOTE: YOU SHOULD ADD YOUR RESULTS, DIAGRAMS AND IMAGES FROM YOUR OBSERVATIONS IN THIS FILE TO YOUR REPORT (the PDF file).**\n",
    "\n",
    "You may change the prototypes of these functions, and you may write other functions, according to your requirements. We would appreciate it if the required functions were prominent/easy to find.\n",
    "\n",
    "**Adding proper comments to your code is MANDATORY. **"
   ]
  },
  {
   "cell_type": "code",
   "execution_count": 278,
   "metadata": {},
   "outputs": [],
   "source": [
    "import pandas as pd\n",
    "import numpy as np\n",
    "import math\n",
    "from scipy import stats\n",
    "from copy import copy, deepcopy"
   ]
  },
  {
   "cell_type": "code",
   "execution_count": 279,
   "metadata": {},
   "outputs": [],
   "source": [
    "# read all datasets \n",
    "adult = pd.read_csv(\"datasets/adult.data\", header = None)\n",
    "bank = pd.read_csv(\"datasets/bank.data\", header = None)\n",
    "breast_cancer_wisconsin = pd.read_csv(\"datasets/breast-cancer-wisconsin.data\", header = None)\n",
    "car = pd.read_csv(\"datasets/car.data\", header = None)\n",
    "lymphography = pd.read_csv(\"datasets/lymphography.data\", header = None)\n",
    "mushroom = pd.read_csv(\"datasets/mushroom.data\", header = None)\n",
    "nursery = pd.read_csv(\"datasets/nursery.data\", header = None)\n",
    "somerville = pd.read_csv(\"datasets/somerville.data\", header = None)\n",
    "university = pd.read_csv(\"datasets/university.data\", header = None)\n",
    "wdbc = pd.read_csv(\"datasets/wdbc.data\", header = None)\n",
    "wine = pd.read_csv(\"datasets/wine.data\", header = None)"
   ]
  },
  {
   "cell_type": "code",
   "execution_count": 280,
   "metadata": {},
   "outputs": [],
   "source": [
    "def delete_missing_value(raw_dataset):\n",
    "    rows = set(raw_dataset[raw_dataset.values == \"?\"].index)\n",
    "    data = raw_dataset.drop(index = rows)\n",
    "    return data"
   ]
  },
  {
   "cell_type": "code",
   "execution_count": 281,
   "metadata": {},
   "outputs": [],
   "source": [
    "# This function should prepare the data by reading it from a file and converting it into a useful format for training and testing\n",
    "\n",
    "def preprocess(df):\n",
    "#     train=df.sample(frac=0.8,random_state=200)\n",
    "#     test=df.drop(train.index)\n",
    "    train = delete_missing_value(df)\n",
    "    return train\n",
    "train_data = preprocess(adult)\n"
   ]
  },
  {
   "cell_type": "code",
   "execution_count": 282,
   "metadata": {},
   "outputs": [],
   "source": [
    "feature_number = 14\n",
    "class_column = 14\n",
    "EPSILON = 1/(2*train_data.shape[0])\n"
   ]
  },
  {
   "cell_type": "code",
   "execution_count": 283,
   "metadata": {},
   "outputs": [],
   "source": [
    "#calculate prior\n",
    "def find_nominal_prob(column):\n",
    "    prior = {}\n",
    "    total_number = len(column)\n",
    "    classes = column.value_counts()\n",
    "    for key in classes.keys():\n",
    "        prior[key] = math.log2(classes[key]/total_number)\n",
    "    return prior\n"
   ]
  },
  {
   "cell_type": "code",
   "execution_count": 302,
   "metadata": {},
   "outputs": [
    {
     "data": {
      "text/plain": [
       "{'<=50K': {3: {'HS-grad': -1.4620290743606676,\n",
       "   'Some-college': -2.0843139272724893,\n",
       "   'Bachelors': -2.956714019989708,\n",
       "   '11th': -4.517651477148488,\n",
       "   'Assoc-voc': -4.55608620006414,\n",
       "   '10th': -4.895725544404053,\n",
       "   'Assoc-acdm': -4.912889336229962,\n",
       "   'Masters': -4.997836370668083,\n",
       "   '7th-8th': -5.439572191337715,\n",
       "   '9th': -5.719285338318139,\n",
       "   '12th': -6.024534692058871,\n",
       "   '5th-6th': -6.3589537311294295,\n",
       "   '1st-4th': -7.287569097892664,\n",
       "   'Prof-school': -7.38001534665726,\n",
       "   'Doctorate': -7.897622579576651,\n",
       "   'Preschool': -8.975625091577925}},\n",
       " '>50K': {3: {'Bachelors': -1.8202870532997695,\n",
       "   'HS-grad': -2.2151089713572127,\n",
       "   'Some-college': -2.490508642356822,\n",
       "   'Masters': -3.0318625914170663,\n",
       "   'Prof-school': -4.208877017645698,\n",
       "   'Assoc-voc': -4.447948180128776,\n",
       "   'Doctorate': -4.744929917885908,\n",
       "   'Assoc-acdm': -4.874212934830874,\n",
       "   '10th': -6.991569885469033,\n",
       "   '11th': -6.991569885469033,\n",
       "   '7th-8th': -7.744929917885908,\n",
       "   '12th': -8.016231939703301,\n",
       "   '9th': -8.230356745056149,\n",
       "   '5th-6th': -9.289250434109718,\n",
       "   '1st-4th': -10.289250434109718,\n",
       "   'Preschool': -15.880444474416523}}}"
      ]
     },
     "execution_count": 302,
     "metadata": {},
     "output_type": "execute_result"
    }
   ],
   "source": [
    "def find_nominal_llh(attributes, llh_dict, data, feature_row):\n",
    "    all_feature = data[feature_row].value_counts()\n",
    "    for attribute in attributes:\n",
    "        feature_dict = {feature_row:{}}\n",
    "        subset = data[data[class_column] == attribute][feature_row]\n",
    "        feature_dict[feature_row] = find_nominal_prob(subset)\n",
    "        for check_feature in all_feature.keys():\n",
    "            if check_feature not in feature_dict[feature_row].keys():\n",
    "                feature_dict[feature_row][check_feature] = np.log2(EPSILON)\n",
    "        if(llh_dict[attribute]):\n",
    "            llh_dict[attribute].update(feature_dict)\n",
    "        else:\n",
    "            llh_dict[attribute] = feature_dict\n",
    "            \n",
    "    return llh_dict\n",
    "\n",
    "llh_dict = dict.fromkeys(attributes)\n",
    "find_nominal_llh(attributes, llh_dict, train_data, 3)\n"
   ]
  },
  {
   "cell_type": "code",
   "execution_count": 303,
   "metadata": {},
   "outputs": [
    {
     "data": {
      "text/plain": [
       "{'<=50K': {3: {'HS-grad': -1.4620290743606676,\n",
       "   'Some-college': -2.0843139272724893,\n",
       "   'Bachelors': -2.956714019989708,\n",
       "   '11th': -4.517651477148488,\n",
       "   'Assoc-voc': -4.55608620006414,\n",
       "   '10th': -4.895725544404053,\n",
       "   'Assoc-acdm': -4.912889336229962,\n",
       "   'Masters': -4.997836370668083,\n",
       "   '7th-8th': -5.439572191337715,\n",
       "   '9th': -5.719285338318139,\n",
       "   '12th': -6.024534692058871,\n",
       "   '5th-6th': -6.3589537311294295,\n",
       "   '1st-4th': -7.287569097892664,\n",
       "   'Prof-school': -7.38001534665726,\n",
       "   'Doctorate': -7.897622579576651,\n",
       "   'Preschool': -8.975625091577925},\n",
       "  0: {'mean': 36.60806038668668, 'std': 13.46433407388627}},\n",
       " '>50K': {3: {'Bachelors': -1.8202870532997695,\n",
       "   'HS-grad': -2.2151089713572127,\n",
       "   'Some-college': -2.490508642356822,\n",
       "   'Masters': -3.0318625914170663,\n",
       "   'Prof-school': -4.208877017645698,\n",
       "   'Assoc-voc': -4.447948180128776,\n",
       "   'Doctorate': -4.744929917885908,\n",
       "   'Assoc-acdm': -4.874212934830874,\n",
       "   '10th': -6.991569885469033,\n",
       "   '11th': -6.991569885469033,\n",
       "   '7th-8th': -7.744929917885908,\n",
       "   '12th': -8.016231939703301,\n",
       "   '9th': -8.230356745056149,\n",
       "   '5th-6th': -9.289250434109718,\n",
       "   '1st-4th': -10.289250434109718,\n",
       "   'Preschool': -15.880444474416523},\n",
       "  0: {'mean': 43.95911028236548, 'std': 10.26894890021735}}}"
      ]
     },
     "execution_count": 303,
     "metadata": {},
     "output_type": "execute_result"
    }
   ],
   "source": [
    "def find_numerical_llh(attributes, llh_dict, data, feature):\n",
    "    \"\"\"\n",
    "    save mean and Std as llh\n",
    "    \"\"\"\n",
    "    for attribute in attributes:\n",
    "        feature_dict = {feature:{}}\n",
    "        subset = subset = data[data[class_column] == attribute][feature]\n",
    "        mean = np.mean(subset)\n",
    "        std = np.std(subset)\n",
    "        feature_dict[feature][\"mean\"] = mean\n",
    "        feature_dict[feature][\"std\"] = std\n",
    "        if(llh_dict[attribute]):\n",
    "            llh_dict[attribute].update(feature_dict)\n",
    "        else:\n",
    "            llh_dict[attribute] = feature_dict\n",
    "    return llh_dict\n",
    "find_numerical_llh(attributes, llh_dict, train_data, 0)"
   ]
  },
  {
   "cell_type": "code",
   "execution_count": 304,
   "metadata": {},
   "outputs": [],
   "source": [
    "# This function should calculat prior probabilities and likelihoods from the training data and using\n",
    "# them to build a naive Bayes model\n",
    "feature_types = [2, 0, 2, 1, 1, 0, 0, 0, 0, 0, 2, 2, 2, 0]\n",
    "\n",
    "def train(data):\n",
    "    prior = find_nominal_prob(data[class_column])\n",
    "    llh_dict = dict.fromkeys(attributes)\n",
    "    for i in range(feature_number):\n",
    "        if(feature_types[i] == 2):\n",
    "            find_numerical_llh(attributes, llh_dict, data, i)\n",
    "        else:\n",
    "            find_nominal_llh(attributes, llh_dict, data, i)\n",
    "            \n",
    "    return prior, llh_dict\n",
    "prior, llh_dict = train(train_data)\n"
   ]
  },
  {
   "cell_type": "code",
   "execution_count": 307,
   "metadata": {},
   "outputs": [
    {
     "data": {
      "text/plain": [
       "'<=50K'"
      ]
     },
     "execution_count": 307,
     "metadata": {},
     "output_type": "execute_result"
    }
   ],
   "source": [
    "# This function should predict classes for new items in a test dataset (for the purposes of this assignment, you\n",
    "# can re-use the training data as a test set)\n",
    "\n",
    "def predict(instance, prior, llh_dict):\n",
    "    all_prob = {}\n",
    "    for attribute in prior.keys():\n",
    "        all_prob[attribute] = prior[attribute]\n",
    "        for i in range(feature_number):\n",
    "            prob = 0\n",
    "            if(feature_types[i] == 2):\n",
    "                mean = llh_dict[attribute][i][\"mean\"]\n",
    "                std = llh_dict[attribute][i][\"std\"]\n",
    "                prob = stats.norm.pdf(x=instance[i], loc=mean, scale=std)\n",
    "                if prob > 0.0:\n",
    "                    prob = np.log2(prob)\n",
    "                else:\n",
    "                    prob = np.log2(1 * 10 ** -8)\n",
    "            else:\n",
    "                prob = llh_dict[attribute][i][instance[i]]\n",
    "            all_prob[attribute] += prob\n",
    "    max_prob = -10000\n",
    "    max_key = \"\"\n",
    "    \n",
    "    for prob in all_prob.keys():\n",
    "        if(all_prob[prob] > max_prob):\n",
    "            max_prob = all_prob[prob]\n",
    "            max_key = prob\n",
    "    return max_key\n",
    "\n",
    "predict(train_data.iloc[100], prior, llh_dict)"
   ]
  },
  {
   "cell_type": "code",
   "execution_count": 315,
   "metadata": {},
   "outputs": [
    {
     "name": "stdout",
     "output_type": "stream",
     "text": [
      "CPU times: user 1e+03 ns, sys: 1 µs, total: 2 µs\n",
      "Wall time: 4.77 µs\n"
     ]
    },
    {
     "data": {
      "text/plain": [
       "0.821928254094556"
      ]
     },
     "execution_count": 315,
     "metadata": {},
     "output_type": "execute_result"
    }
   ],
   "source": [
    "# This function should evaliate the prediction performance by comparing your model’s class outputs to ground\n",
    "# truth labels\n",
    "\n",
    "def evaluate(data):\n",
    "    predict_list = []\n",
    "    correct = 0\n",
    "    total = data.shape[0]\n",
    "    for index, row in data.iterrows():\n",
    "        if row[14] == predict(row, prior, llh_dict):\n",
    "            correct += 1\n",
    "#         result_list = [index,row[14],predict(row, prior, llh_dict)]\n",
    "#         predict_list.append(result_list)\n",
    "    correct_rate = correct/total\n",
    "    return correct_rate\n",
    "%time\n",
    "evaluate(train_data)\n"
   ]
  },
  {
   "cell_type": "markdown",
   "metadata": {},
   "source": [
    "## Questions \n",
    "\n",
    "\n",
    "If you are in a group of 1, you will respond to question (1), and **one** other of your choosing (two responses in total).\n",
    "\n",
    "If you are in a group of 2, you will respond to question (1) and question (2), and **two** others of your choosing (four responses in total). \n",
    "\n",
    "A response to a question should take about 100–250 words, and make reference to the data wherever possible.\n",
    "\n",
    "#### NOTE: you may develope codes or functions in respond to the question, but your formal answer should be added to a separate file."
   ]
  },
  {
   "cell_type": "markdown",
   "metadata": {},
   "source": [
    "### Q1\n",
    "Try discretising the numeric attributes in these datasets and treating them as discrete variables in the na¨ıve Bayes classifier. You can use a discretisation method of your choice and group the numeric values into any number of levels (but around 3 to 5 levels would probably be a good starting point). Does discretizing the variables improve classification performance, compared to the Gaussian na¨ıve Bayes approach? Why or why not?"
   ]
  },
  {
   "cell_type": "code",
   "execution_count": null,
   "metadata": {
    "collapsed": true
   },
   "outputs": [],
   "source": []
  },
  {
   "cell_type": "markdown",
   "metadata": {},
   "source": [
    "### Q2\n",
    "Implement a baseline model (e.g., random or 0R) and compare the performance of the na¨ıve Bayes classifier to this baseline on multiple datasets. Discuss why the baseline performance varies across datasets, and to what extent the na¨ıve Bayes classifier improves on the baseline performance."
   ]
  },
  {
   "cell_type": "code",
   "execution_count": null,
   "metadata": {
    "collapsed": true
   },
   "outputs": [],
   "source": []
  },
  {
   "cell_type": "markdown",
   "metadata": {},
   "source": [
    "### Q3\n",
    "Since it’s difficult to model the probabilities of ordinal data, ordinal attributes are often treated as either nominal variables or numeric variables. Compare these strategies on the ordinal datasets provided. Deterimine which approach gives higher classification accuracy and discuss why."
   ]
  },
  {
   "cell_type": "code",
   "execution_count": null,
   "metadata": {
    "collapsed": true
   },
   "outputs": [],
   "source": []
  },
  {
   "cell_type": "markdown",
   "metadata": {},
   "source": [
    "### Q4\n",
    "Evaluating the model on the same data that we use to train the model is considered to be a major mistake in Machine Learning. Implement a hold–out or cross–validation evaluation strategy (you should implement this yourself and do not simply call existing implementations from `scikit-learn`). How does your estimate of effectiveness change, compared to testing on the training data? Explain why. (The result might surprise you!)"
   ]
  },
  {
   "cell_type": "code",
   "execution_count": null,
   "metadata": {
    "collapsed": true
   },
   "outputs": [],
   "source": []
  },
  {
   "cell_type": "markdown",
   "metadata": {},
   "source": [
    "### Q5\n",
    "Implement one of the advanced smoothing regimes (add-k, Good-Turing). Does changing the smoothing regime (or indeed, not smoothing at all) affect the effectiveness of the na¨ıve Bayes classifier? Explain why, or why not."
   ]
  },
  {
   "cell_type": "code",
   "execution_count": null,
   "metadata": {
    "collapsed": true
   },
   "outputs": [],
   "source": []
  },
  {
   "cell_type": "markdown",
   "metadata": {},
   "source": [
    "### Q6\n",
    "The Gaussian na¨ıve Bayes classifier assumes that numeric attributes come from a Gaussian distribution. Is this assumption always true for the numeric attributes in these datasets? Identify some cases where the Gaussian assumption is violated and describe any evidence (or lack thereof) that this has some effect on the NB classifier’s predictions."
   ]
  },
  {
   "cell_type": "code",
   "execution_count": null,
   "metadata": {
    "collapsed": true
   },
   "outputs": [],
   "source": []
  }
 ],
 "metadata": {
  "kernelspec": {
   "display_name": "Python 3",
   "language": "python",
   "name": "python3"
  },
  "language_info": {
   "codemirror_mode": {
    "name": "ipython",
    "version": 3
   },
   "file_extension": ".py",
   "mimetype": "text/x-python",
   "name": "python",
   "nbconvert_exporter": "python",
   "pygments_lexer": "ipython3",
   "version": "3.7.1"
  }
 },
 "nbformat": 4,
 "nbformat_minor": 4
}
